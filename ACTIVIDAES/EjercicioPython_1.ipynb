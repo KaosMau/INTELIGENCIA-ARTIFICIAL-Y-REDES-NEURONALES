{
  "nbformat": 4,
  "nbformat_minor": 0,
  "metadata": {
    "colab": {
      "provenance": []
    },
    "kernelspec": {
      "name": "python3",
      "display_name": "Python 3"
    },
    "language_info": {
      "name": "python"
    }
  },
  "cells": [
    {
      "cell_type": "markdown",
      "source": [
        "ACTIVIDAD #2: DISEÑO DE ALGORITMOS EN PYTHON\n",
        "\n",
        "MAURICIO ARMANDO VILLATORO ALVARADO\n",
        "\n",
        "2128154\n",
        "\n",
        "IMTC\n",
        "\n",
        "N1"
      ],
      "metadata": {
        "id": "5okusv84uLHk"
      }
    },
    {
      "cell_type": "code",
      "source": [
        "#Desarrolla un algoritmo que le pida al usuario por su nombre y que lo salude con su nombre, excepto si se llama “Ana”, “Juan”, y “Pedro”.\n",
        "nombre = input(\"Por favor, ingresa tu nombre: \")\n",
        "\n",
        "if nombre.lower() not in [\"Ana\", \"Juan\", \"Pedro\"]:\n",
        "    print(\"Hola,\", nombre + \"!!!\")"
      ],
      "metadata": {
        "colab": {
          "base_uri": "https://localhost:8080/"
        },
        "id": "sdEmCDFwwfln",
        "outputId": "2f520fee-6812-47ee-dc78-8dd9bc0327e2"
      },
      "execution_count": 20,
      "outputs": [
        {
          "output_type": "stream",
          "name": "stdout",
          "text": [
            "Por favor, ingresa tu nombre: MAU\n",
            "Hola, MAU!!!\n"
          ]
        }
      ]
    },
    {
      "cell_type": "code",
      "source": [
        "#Desarrolla un algoritmo que por medio de una función, le pida al usuario una lista de N elementos y como resultado invierta el sentido de la lista.\n",
        "def invertir_lista():\n",
        "    n = int(input(\"Ingrese el número de elementos de la lista a invertir: \"))\n",
        "\n",
        "    lista = []\n",
        "    for i in range(n):\n",
        "        elemento = input(\"Ingrese el elemento {}: \".format(i + 1))\n",
        "        lista.append(elemento)\n",
        "\n",
        "\n",
        "    lista_invertida = lista[::-1]\n",
        "\n",
        "    print(\"Lista invertida:\", lista_invertida)\n",
        "\n",
        "invertir_lista()\n",
        "\n"
      ],
      "metadata": {
        "colab": {
          "base_uri": "https://localhost:8080/"
        },
        "id": "XjbOX5wYxCxI",
        "outputId": "a2414285-a478-4898-c360-95c8c01650a1"
      },
      "execution_count": 30,
      "outputs": [
        {
          "output_type": "stream",
          "name": "stdout",
          "text": [
            "Ingrese el número de elementos de la lista a invertir: 6\n",
            "Ingrese el elemento 1: 1 \n",
            "Ingrese el elemento 2: 2\n",
            "Ingrese el elemento 3: 3\n",
            "Ingrese el elemento 4: 4\n",
            "Ingrese el elemento 5: 5\n",
            "Ingrese el elemento 6: 6\n",
            "Lista invertida: ['6', '5', '4', '3', '2', '1 ']\n"
          ]
        }
      ]
    },
    {
      "cell_type": "code",
      "source": [
        "#Desarrolla un algoritmo que le pregunte al usuario cuántos números de la serie de Fibonacci quiere generar y que al final los imprima.\n",
        "def fibonacci(n):\n",
        "    fibonacci_list = []\n",
        "    x, y = 0, 1\n",
        "    for _ in range(n):\n",
        "        fibonacci_list.append(x)\n",
        "        x, y = y, x + y\n",
        "    return fibonacci_list\n",
        "\n",
        "cantidad = int(input(\"¿Cuántos números de la serie de Fibonacci que deseas generar? \"))\n",
        "\n",
        "fibonacci_resultado = fibonacci(cantidad)\n",
        "print(fibonacci(cantidad))\n",
        "\n"
      ],
      "metadata": {
        "colab": {
          "base_uri": "https://localhost:8080/"
        },
        "id": "cKVgp7fBxRWo",
        "outputId": "fccf4379-81fd-4617-db16-d05f3fcbfe6d"
      },
      "execution_count": 34,
      "outputs": [
        {
          "output_type": "stream",
          "name": "stdout",
          "text": [
            "¿Cuántos números de la serie de Fibonacci que deseas generar? 20\n",
            "[0, 1, 1, 2, 3, 5, 8, 13, 21, 34, 55, 89, 144, 233, 377, 610, 987, 1597, 2584, 4181]\n"
          ]
        }
      ]
    },
    {
      "cell_type": "code",
      "source": [
        "#Juego de adivinar el número: Crea un programa que genere un número aleatorio entre 1 y 100, y luego le pida al usuario que adivine el número. El programa debe proporcionar pistas al usuario si el número es mayor o menor que el número objetivo, y seguir solicitando un nuevo intento hasta que el usuario adivine correctamente.\n",
        "import random\n",
        "\n",
        "def adivina_numero():\n",
        "    numero_random = random.randint(1, 100)\n",
        "    intentos = 0\n",
        "\n",
        "    print(\"Estoy pensando en un número entre 1 y 100. ¡Adivina cuál es!\")\n",
        "\n",
        "    while True:\n",
        "        intento = int(input(\"Introduce tu número: \"))\n",
        "        intentos += 1\n",
        "\n",
        "        if intento < numero_random:\n",
        "            print(\"El número secreto es mayor que\", intento)\n",
        "        elif intento > numero_random:\n",
        "            print(\"El número secreto es menor que\", intento)\n",
        "        else:\n",
        "            print(\"¡Felicidades! ¡Adivinaste el número aleatorio\")\n",
        "            break\n",
        "\n",
        "adivina_numero()\n"
      ],
      "metadata": {
        "colab": {
          "base_uri": "https://localhost:8080/"
        },
        "id": "zQ5ArbkSxbgS",
        "outputId": "5e9ad4f9-1faf-4a83-818a-552bab96c63f"
      },
      "execution_count": 38,
      "outputs": [
        {
          "output_type": "stream",
          "name": "stdout",
          "text": [
            "Estoy pensando en un número entre 1 y 100. ¡Adivina cuál es!\n",
            "Introduce tu número: 50\n",
            "El número secreto es mayor que 50\n",
            "Introduce tu número: 80\n",
            "El número secreto es menor que 80\n",
            "Introduce tu número: 70\n",
            "El número secreto es mayor que 70\n",
            "Introduce tu número: 75\n",
            "El número secreto es menor que 75\n",
            "Introduce tu número: 72\n",
            "El número secreto es menor que 72\n",
            "Introduce tu número: 71\n",
            "¡Felicidades! ¡Adivinaste el número aleatorio\n"
          ]
        }
      ]
    },
    {
      "cell_type": "code",
      "source": [
        "#Ejercicio de cálculo de números primos en un rango dado: Escribe un programa que solicite al usuario un rango de números y muestre todos los números primos dentro de ese rango.\n",
        "def es_primo(numero):\n",
        "    if numero <= 1:\n",
        "        return False\n",
        "    elif numero <= 3:\n",
        "        return True\n",
        "    elif numero % 2 == 0 or numero % 3 == 0:\n",
        "        return False\n",
        "    i = 5\n",
        "    while i * i <= numero:\n",
        "        if numero % i == 0 or numero % (i + 2) == 0:\n",
        "            return False\n",
        "        i += 6\n",
        "    return True\n",
        "\n",
        "def rango(inicio, fin):\n",
        "    primos = []\n",
        "    for numero in range(inicio, fin + 1):\n",
        "        if es_primo(numero):\n",
        "            primos.append(numero)\n",
        "    return primos\n",
        "\n",
        "inicio = int(input(\"Ingrese el número inicial del rango: \"))\n",
        "fin = int(input(\"Ingrese el número final del rango: \"))\n",
        "\n",
        "print(\"Los números primos en el rango de\", inicio, \"a\", fin, \"son:\")\n",
        "print(rango(inicio, fin))\n",
        "\n"
      ],
      "metadata": {
        "colab": {
          "base_uri": "https://localhost:8080/"
        },
        "id": "hsp4ZIahxuRI",
        "outputId": "2303d341-931d-4fbe-ec9a-34556f945756"
      },
      "execution_count": 40,
      "outputs": [
        {
          "output_type": "stream",
          "name": "stdout",
          "text": [
            "Ingrese el número inicial del rango: 0\n",
            "Ingrese el número final del rango: 20\n",
            "Los números primos en el rango de 0 a 20 son:\n",
            "[2, 3, 5, 7, 11, 13, 17, 19]\n"
          ]
        }
      ]
    },
    {
      "cell_type": "code",
      "source": [
        "#Ejercicio de implementación de una calculadora básica utilizando funciones: Escribe un programa que solicite al usuario dos números y realice operaciones básicas como suma, resta, multiplicación y división utilizando funciones separadas para cada operación.\n",
        "def suma(a, b):\n",
        "    return a + b\n",
        "\n",
        "def resta(a, b):\n",
        "    return a - b\n",
        "\n",
        "def multiplicacion(a, b):\n",
        "    return a * b\n",
        "\n",
        "def division(a, b):\n",
        "    if b == 0:\n",
        "        return \"Error: división por cero\"\n",
        "    else:\n",
        "        return a / b\n",
        "\n",
        "def numero():\n",
        "    num1 = int(input(\"Ingrese el primer número: \"))\n",
        "    num2 = int(input(\"Ingrese el segundo número: \"))\n",
        "\n",
        "    print(\"Seleccione la operación que desea realizar:\")\n",
        "    print(\"1. Suma\")\n",
        "    print(\"2. Resta\")\n",
        "    print(\"3. Multiplicación\")\n",
        "    print(\"4. División\")\n",
        "\n",
        "    opcion = input(\"Ingrese el número de la operación: \")\n",
        "\n",
        "    if opcion == \"1\":\n",
        "        print(\"Resultado de la suma:\", suma(num1, num2))\n",
        "    elif opcion == \"2\":\n",
        "        print(\"Resultado de la resta:\", resta(num1, num2))\n",
        "    elif opcion == \"3\":\n",
        "        print(\"Resultado de la multiplicación:\", multiplicacion(num1, num2))\n",
        "    elif opcion == \"4\":\n",
        "        print(\"Resultado de la división:\", division(num1, num2))\n",
        "    else:\n",
        "        print(\"Opción no válida\")\n",
        "\n",
        "numero()"
      ],
      "metadata": {
        "colab": {
          "base_uri": "https://localhost:8080/"
        },
        "id": "8N-woUApxyjT",
        "outputId": "77bcc1bf-5e9d-46dd-f8b8-01eba3d68cfa"
      },
      "execution_count": 43,
      "outputs": [
        {
          "output_type": "stream",
          "name": "stdout",
          "text": [
            "Ingrese el primer número: 100\n",
            "Ingrese el segundo número: 5\n",
            "Seleccione la operación que desea realizar:\n",
            "1. Suma\n",
            "2. Resta\n",
            "3. Multiplicación\n",
            "4. División\n",
            "Ingrese el número de la operación: 3\n",
            "Resultado de la multiplicación: 500\n"
          ]
        }
      ]
    }
  ]
}