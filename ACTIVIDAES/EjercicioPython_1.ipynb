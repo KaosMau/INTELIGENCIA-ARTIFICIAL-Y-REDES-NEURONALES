{
  "nbformat": 4,
  "nbformat_minor": 0,
  "metadata": {
    "colab": {
      "provenance": []
    },
    "kernelspec": {
      "name": "python3",
      "display_name": "Python 3"
    },
    "language_info": {
      "name": "python"
    }
  },
  "cells": [
    {
      "cell_type": "markdown",
      "source": [
        "ACTIVIDAD #2: DISEÑO DE ALGORITMOS EN PYTHON\n",
        "\n",
        "MAURICIO ARMANDO VILLATORO ALVARADO\n",
        "\n",
        "2128154\n",
        "\n",
        "IMTC\n",
        "\n",
        "N1"
      ],
      "metadata": {
        "id": "5okusv84uLHk"
      }
    },
    {
      "cell_type": "code",
      "source": [
        "#Desarrolla un algoritmo que le pida al usuario por su nombre y que lo salude con su nombre, excepto si se llama “Ana”, “Juan”, y “Pedro”.\n",
        "nombre = input(\"Por favor, ingresa tu nombre: \")\n",
        "\n",
        "if nombre.lower() not in [\"Ana\", \"Juan\", \"Pedro\"]:\n",
        "    print(\"Hola,\", nombre + \", ¿cómo estás?\")"
      ],
      "metadata": {
        "colab": {
          "base_uri": "https://localhost:8080/"
        },
        "id": "sdEmCDFwwfln",
        "outputId": "8475dd0a-3341-48aa-cdc4-51f81325c6c9"
      },
      "execution_count": 12,
      "outputs": [
        {
          "output_type": "stream",
          "name": "stdout",
          "text": [
            "Por favor, ingresa tu nombre: ANA\n",
            "Hola, ANA, ¿cómo estás?\n"
          ]
        }
      ]
    },
    {
      "cell_type": "code",
      "source": [
        "#Desarrolla un algoritmo que por medio de una función, le pida al usuario una lista de N elementos y como resultado invierta el sentido de la lista.\n",
        "def invertir_lista():\n",
        "    N = int(input(\"Ingrese la cantidad de elementos de la lista: \"))\n",
        "    lista = []\n",
        "\n",
        "    for i in range(N):\n",
        "        elemento = input(\"Ingrese el elemento {}: \".format(i + 1))\n",
        "        lista.append(elemento)\n",
        "\n",
        "    lista_invertida = lista[::-1]\n",
        "    return lista_invertida\n",
        "\n",
        "lista_invertida = invertir_lista()\n",
        "print(\"Lista invertida:\", lista_invertida)\n",
        "\n"
      ],
      "metadata": {
        "colab": {
          "base_uri": "https://localhost:8080/"
        },
        "id": "XjbOX5wYxCxI",
        "outputId": "07222daa-f54b-42d8-f5f7-c6f96e57b127"
      },
      "execution_count": 13,
      "outputs": [
        {
          "output_type": "stream",
          "name": "stdout",
          "text": [
            "Ingrese la cantidad de elementos de la lista: 5\n",
            "Ingrese el elemento 1: 1\n",
            "Ingrese el elemento 2: 2\n",
            "Ingrese el elemento 3: 3\n",
            "Ingrese el elemento 4: \n",
            "Ingrese el elemento 5: 5\n",
            "Lista invertida: ['5', '', '3', '2', '1']\n"
          ]
        }
      ]
    },
    {
      "cell_type": "code",
      "source": [
        "#Desarrolla un algoritmo que le pregunte al usuario cuántos números de la serie de Fibonacci quiere generar y que al final los imprima.\n",
        "def fibonacci(n):\n",
        "    fibonacci_list = []\n",
        "    a, b = 0, 1\n",
        "    for _ in range(n):\n",
        "        fibonacci_list.append(a)\n",
        "        a, b = b, a + b\n",
        "    return fibonacci_list\n",
        "\n",
        "cantidad = int(input(\"Ingrese la cantidad de números de la serie de Fibonacci que desea generar: \"))\n",
        "\n",
        "fibonacci_resultado = fibonacci(cantidad)\n",
        "print(\"Los {} primeros números de la serie de Fibonacci son: {}\".format(cantidad, fibonacci_resultado))\n",
        "\n"
      ],
      "metadata": {
        "colab": {
          "base_uri": "https://localhost:8080/"
        },
        "id": "cKVgp7fBxRWo",
        "outputId": "4ee72a42-e777-4c57-9f73-0b00db9e76dd"
      },
      "execution_count": 14,
      "outputs": [
        {
          "output_type": "stream",
          "name": "stdout",
          "text": [
            "Ingrese la cantidad de números de la serie de Fibonacci que desea generar: 7\n",
            "Los 7 primeros números de la serie de Fibonacci son: [0, 1, 1, 2, 3, 5, 8]\n"
          ]
        }
      ]
    },
    {
      "cell_type": "code",
      "source": [
        "#Juego de adivinar el número: Crea un programa que genere un número aleatorio entre 1 y 100, y luego le pida al usuario que adivine el número. El programa debe proporcionar pistas al usuario si el número es mayor o menor que el número objetivo, y seguir solicitando un nuevo intento hasta que el usuario adivine correctamente.\n",
        "import random\n",
        "\n",
        "def generar_numero():\n",
        "    return random.randint(1, 100)\n",
        "\n",
        "def adivinar_numero(numero_generado):\n",
        "    intentos = 0\n",
        "    while True:\n",
        "        intento = int(input(\"Adivina el número (entre 1 y 100): \"))\n",
        "        intentos += 1\n",
        "        if intento < numero_generado:\n",
        "            print(\"El número es mayor.\")\n",
        "        elif intento > numero_generado:\n",
        "            print(\"El número es menor.\")\n",
        "        else:\n",
        "            print(\"¡Felicidades! Has adivinado el número {} en {} intentos.\".format(numero_generado, intentos))\n",
        "            break\n",
        "\n",
        "def main():\n",
        "    print(\"¡Bienvenido al juego de adivinar el número!\")\n",
        "    numero_objetivo = generar_numero()\n",
        "    adivinar_numero(numero_objetivo)\n",
        "\n",
        "if __name__ == \"__main__\":\n",
        "    main()\n"
      ],
      "metadata": {
        "colab": {
          "base_uri": "https://localhost:8080/"
        },
        "id": "zQ5ArbkSxbgS",
        "outputId": "8cc7385b-27d2-446a-e805-eaed0781f00c"
      },
      "execution_count": 15,
      "outputs": [
        {
          "output_type": "stream",
          "name": "stdout",
          "text": [
            "¡Bienvenido al juego de adivinar el número!\n",
            "Adivina el número (entre 1 y 100): 10\n",
            "El número es menor.\n",
            "Adivina el número (entre 1 y 100): 5\n",
            "El número es mayor.\n",
            "Adivina el número (entre 1 y 100): 6\n",
            "El número es mayor.\n",
            "Adivina el número (entre 1 y 100): 7\n",
            "El número es mayor.\n",
            "Adivina el número (entre 1 y 100): 8\n",
            "¡Felicidades! Has adivinado el número 8 en 5 intentos.\n"
          ]
        }
      ]
    },
    {
      "cell_type": "code",
      "source": [
        "#Ejercicio de cálculo de números primos en un rango dado: Escribe un programa que solicite al usuario un rango de números y muestre todos los números primos dentro de ese rango.\n",
        "def es_primo(numero):\n",
        "    if numero <= 1:\n",
        "        return False\n",
        "    for i in range(2, int(numero ** 0.5) + 1):\n",
        "        if numero % i == 0:\n",
        "            return False\n",
        "    return True\n",
        "\n",
        "def numeros_primos_en_rango(inicio, fin):\n",
        "    primos = []\n",
        "    for num in range(inicio, fin + 1):\n",
        "        if es_primo(num):\n",
        "            primos.append(num)\n",
        "    return primos\n",
        "\n",
        "def main():\n",
        "    inicio = int(input(\"Ingrese el inicio del rango: \"))\n",
        "    fin = int(input(\"Ingrese el fin del rango: \"))\n",
        "\n",
        "    if inicio > fin:\n",
        "        print(\"El inicio del rango debe ser menor o igual que el fin del rango.\")\n",
        "        return\n",
        "\n",
        "    print(\"Números primos en el rango [{}, {}]:\".format(inicio, fin))\n",
        "    primos_en_rango = numeros_primos_en_rango(inicio, fin)\n",
        "    if primos_en_rango:\n",
        "        print(primos_en_rango)\n",
        "    else:\n",
        "        print(\"No se encontraron números primos en el rango.\")\n",
        "\n",
        "if __name__ == \"__main__\":\n",
        "    main()\n"
      ],
      "metadata": {
        "colab": {
          "base_uri": "https://localhost:8080/"
        },
        "id": "hsp4ZIahxuRI",
        "outputId": "072cb4d1-cf0c-4bac-e89b-4f177e3b21f3"
      },
      "execution_count": 16,
      "outputs": [
        {
          "output_type": "stream",
          "name": "stdout",
          "text": [
            "Ingrese el inicio del rango: 4\n",
            "Ingrese el fin del rango: 45\n",
            "Números primos en el rango [4, 45]:\n",
            "[5, 7, 11, 13, 17, 19, 23, 29, 31, 37, 41, 43]\n"
          ]
        }
      ]
    },
    {
      "cell_type": "code",
      "source": [
        "#Ejercicio de implementación de una calculadora básica utilizando funciones: Escribe un programa que solicite al usuario dos números y realice operaciones básicas como suma, resta, multiplicación y división utilizando funciones separadas para cada operación.\n",
        "def suma(a, b):\n",
        "    return a + b\n",
        "\n",
        "def resta(a, b):\n",
        "    return a - b\n",
        "\n",
        "def multiplicacion(a, b):\n",
        "    return a * b\n",
        "\n",
        "def division(a, b):\n",
        "    if b == 0:\n",
        "        return \"Error: división por cero\"\n",
        "    else:\n",
        "        return a / b\n",
        "\n",
        "def main():\n",
        "    num1 = float(input(\"Ingrese el primer número: \"))\n",
        "    num2 = float(input(\"Ingrese el segundo número: \"))\n",
        "\n",
        "    print(\"Seleccione la operación que desea realizar:\")\n",
        "    print(\"1. Suma\")\n",
        "    print(\"2. Resta\")\n",
        "    print(\"3. Multiplicación\")\n",
        "    print(\"4. División\")\n",
        "\n",
        "    opcion = input(\"Ingrese el número de la operación: \")\n",
        "\n",
        "    if opcion == \"1\":\n",
        "        print(\"Resultado de la suma:\", suma(num1, num2))\n",
        "    elif opcion == \"2\":\n",
        "        print(\"Resultado de la resta:\", resta(num1, num2))\n",
        "    elif opcion == \"3\":\n",
        "        print(\"Resultado de la multiplicación:\", multiplicacion(num1, num2))\n",
        "    elif opcion == \"4\":\n",
        "        print(\"Resultado de la división:\", division(num1, num2))\n",
        "    else:\n",
        "        print(\"Opción no válida\")\n",
        "\n",
        "if __name__ == \"__main__\":\n",
        "    main()\n"
      ],
      "metadata": {
        "colab": {
          "base_uri": "https://localhost:8080/"
        },
        "id": "8N-woUApxyjT",
        "outputId": "7bac3a4d-a8e8-4edd-aa1b-49de7f16ed17"
      },
      "execution_count": 18,
      "outputs": [
        {
          "output_type": "stream",
          "name": "stdout",
          "text": [
            "Ingrese el primer número: 8\n",
            "Ingrese el segundo número: 9\n",
            "Seleccione la operación que desea realizar:\n",
            "1. Suma\n",
            "2. Resta\n",
            "3. Multiplicación\n",
            "4. División\n",
            "Ingrese el número de la operación: 4\n",
            "Resultado de la división: 0.8888888888888888\n"
          ]
        }
      ]
    }
  ]
}