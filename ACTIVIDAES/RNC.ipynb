{
  "nbformat": 4,
  "nbformat_minor": 0,
  "metadata": {
    "colab": {
      "provenance": []
    },
    "kernelspec": {
      "name": "python3",
      "display_name": "Python 3"
    },
    "language_info": {
      "name": "python"
    }
  },
  "cells": [
    {
      "cell_type": "markdown",
      "source": [
        "ACTIVIDAD #6: REDES NEURONALES\n",
        "\n",
        "MAURICIO ARMANDO VILLATORO ALVARADO\n",
        "\n",
        "2128154\n",
        "\n",
        "IMTC\n",
        "\n",
        "N1"
      ],
      "metadata": {
        "id": "JABH3wRG7hny"
      }
    },
    {
      "cell_type": "code",
      "source": [
        "# Cargar librerías\n",
        "import tensorflow as tf\n",
        "from tensorflow.keras.datasets import mnist\n",
        "from tensorflow.keras.models import Sequential\n",
        "from tensorflow.keras.layers import Conv2D, MaxPooling2D, Flatten, Dense\n"
      ],
      "metadata": {
        "id": "pIR-zPld7oz6"
      },
      "execution_count": 1,
      "outputs": []
    },
    {
      "cell_type": "markdown",
      "source": [
        "SEGUIMOS CON EL SIGUIENTE PASO\n"
      ],
      "metadata": {
        "id": "rou8MQXk72ot"
      }
    },
    {
      "cell_type": "code",
      "source": [
        "# Cargar datos\n",
        "(train_data, train_labels), (test_data, test_labels) = mnist.load_data()\n",
        "\n",
        "# Preprocesamiento de datos\n",
        "train_data = train_data.reshape((train_data.shape[0], 28, 28, 1)).astype('float32') / 255\n",
        "test_data = test_data.reshape((test_data.shape[0], 28, 28, 1)).astype('float32') / 255\n"
      ],
      "metadata": {
        "colab": {
          "base_uri": "https://localhost:8080/"
        },
        "id": "ROBfxV8q76-A",
        "outputId": "27df2eb8-0078-4eb4-b240-2d73c71315a6"
      },
      "execution_count": 2,
      "outputs": [
        {
          "output_type": "stream",
          "name": "stdout",
          "text": [
            "Downloading data from https://storage.googleapis.com/tensorflow/tf-keras-datasets/mnist.npz\n",
            "11490434/11490434 [==============================] - 1s 0us/step\n"
          ]
        }
      ]
    },
    {
      "cell_type": "code",
      "source": [
        "\n",
        "# Selección y entrenamiento del modelo\n",
        "model = Sequential([\n",
        "    Conv2D(32, (3, 3), activation='relu', input_shape=(28, 28, 1)),\n",
        "    MaxPooling2D((2, 2)),\n",
        "    Conv2D(64, (3, 3), activation='relu'),\n",
        "    MaxPooling2D((2, 2)),\n",
        "    Conv2D(64, (3, 3), activation='relu'),\n",
        "    Flatten(),\n",
        "    Dense(64, activation='relu'),\n",
        "    Dense(10, activation='softmax')\n",
        "])\n",
        "\n",
        "model.compile(optimizer='adam',\n",
        "              loss='sparse_categorical_crossentropy',\n",
        "              metrics=['accuracy'])\n",
        "\n",
        "model.fit(train_data, train_labels, epochs=5, batch_size=64)"
      ],
      "metadata": {
        "colab": {
          "base_uri": "https://localhost:8080/"
        },
        "id": "kBlSqncg7_PF",
        "outputId": "d7b0708d-4ab6-42f4-e5e3-72ae3b277fb6"
      },
      "execution_count": 3,
      "outputs": [
        {
          "output_type": "stream",
          "name": "stdout",
          "text": [
            "Epoch 1/5\n",
            "938/938 [==============================] - 56s 58ms/step - loss: 0.1847 - accuracy: 0.9426\n",
            "Epoch 2/5\n",
            "938/938 [==============================] - 56s 59ms/step - loss: 0.0503 - accuracy: 0.9846\n",
            "Epoch 3/5\n",
            "938/938 [==============================] - 55s 58ms/step - loss: 0.0350 - accuracy: 0.9893\n",
            "Epoch 4/5\n",
            "938/938 [==============================] - 55s 58ms/step - loss: 0.0290 - accuracy: 0.9909\n",
            "Epoch 5/5\n",
            "938/938 [==============================] - 55s 59ms/step - loss: 0.0234 - accuracy: 0.9927\n"
          ]
        },
        {
          "output_type": "execute_result",
          "data": {
            "text/plain": [
              "<keras.src.callbacks.History at 0x77ffd442fbe0>"
            ]
          },
          "metadata": {},
          "execution_count": 3
        }
      ]
    },
    {
      "cell_type": "code",
      "source": [
        "\n",
        "# Prueba de modelo\n",
        "test_loss, test_accuracy = model.evaluate(test_data, test_labels)\n",
        "print(\"Exactitud de predicción en conjunto de prueba:\", test_accuracy)\n",
        "\n",
        "# Predicciones\n",
        "predictions = model.predict(test_data[:5])\n",
        "for i in range(5):\n",
        "    print(\"Predicción:\", tf.argmax(predictions[i]).numpy(), \"Valor Real:\", test_labels[i])\n"
      ],
      "metadata": {
        "colab": {
          "base_uri": "https://localhost:8080/"
        },
        "id": "ilMRRy6f9Hxf",
        "outputId": "f32792d9-0fa3-4597-a090-cc3f4ed7cf46"
      },
      "execution_count": 4,
      "outputs": [
        {
          "output_type": "stream",
          "name": "stdout",
          "text": [
            "313/313 [==============================] - 3s 10ms/step - loss: 0.0268 - accuracy: 0.9918\n",
            "Exactitud de predicción en conjunto de prueba: 0.9918000102043152\n",
            "1/1 [==============================] - 0s 107ms/step\n",
            "Predicción: 7 Valor Real: 7\n",
            "Predicción: 2 Valor Real: 2\n",
            "Predicción: 1 Valor Real: 1\n",
            "Predicción: 0 Valor Real: 0\n",
            "Predicción: 4 Valor Real: 4\n"
          ]
        }
      ]
    },
    {
      "cell_type": "markdown",
      "source": [
        "¿Cuántas épocas usaste para mejorar el rendimiento del modelo en comparación con la red neuronal prealimentada de la actividad 5?\n",
        "R= En este ejemplo, se utilizaron 5 épocas para entrenar el modelo.\n",
        "\n",
        "\n",
        "\n",
        "\n",
        "\n",
        "\n",
        "\n",
        "\n",
        "¿Obtuviste un mejor rendimiento con este modelo o con el de la actividad 5? ¿Por qué?\n",
        "\n",
        "R= El rendimiento entre el modelo de la Actividad 5 y el de la Actividad 6 puede variar según varios factores, como la complejidad del problema, la cantidad y variedad de datos, y la configuración específica del modelo. Dado que la CNN de la Actividad 6 tiene la capacidad de capturar características espaciales en las imágenes, es posible que obtenga un rendimiento ligeramente mejor en problemas de clasificación de imágenes como MNIST. Sin embargo, la determinación precisa del rendimiento requeriría comparar directamente la exactitud de predicción en el conjunto de prueba para ambos modelos.\n",
        "\n"
      ],
      "metadata": {
        "id": "y9dcvOMu-peg"
      }
    }
  ]
}