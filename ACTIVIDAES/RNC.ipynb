{
  "nbformat": 4,
  "nbformat_minor": 0,
  "metadata": {
    "colab": {
      "provenance": []
    },
    "kernelspec": {
      "name": "python3",
      "display_name": "Python 3"
    },
    "language_info": {
      "name": "python"
    }
  },
  "cells": [
    {
      "cell_type": "markdown",
      "source": [
        "ACTIVIDAD #6: REDES NEURONALES\n",
        "\n",
        "MAURICIO ARMANDO VILLATORO ALVARADO\n",
        "\n",
        "2128154\n",
        "\n",
        "IMTC\n",
        "\n",
        "N1"
      ],
      "metadata": {
        "id": "4E42TCKLVubE"
      }
    },
    {
      "cell_type": "code",
      "source": [
        "import numpy as np\n",
        "import matplotlib.pyplot as plt\n",
        "\n",
        "# Paso 1: Cargar librerías\n",
        "import tensorflow as tf\n",
        "from tensorflow.keras.datasets import mnist\n",
        "from tensorflow.keras.models import Sequential\n",
        "from tensorflow.keras.layers import Conv2D, MaxPooling2D, Flatten, Dense\n",
        "\n",
        "# Paso 2: Cargar datos\n",
        "(train_data, train_labels), (test_data, test_labels) = mnist.load_data()"
      ],
      "metadata": {
        "colab": {
          "base_uri": "https://localhost:8080/"
        },
        "id": "N0daoEVoV1FF",
        "outputId": "65eaaa70-3a06-47ab-940a-ed09bed68fc8"
      },
      "execution_count": 1,
      "outputs": [
        {
          "output_type": "stream",
          "name": "stdout",
          "text": [
            "Downloading data from https://storage.googleapis.com/tensorflow/tf-keras-datasets/mnist.npz\n",
            "11490434/11490434 [==============================] - 0s 0us/step\n"
          ]
        }
      ]
    },
    {
      "cell_type": "code",
      "source": [
        "# Paso 3: Preprocesamiento de datos\n",
        "train_data = train_data.reshape((train_data.shape[0], 28, 28, 1)).astype('float32') / 255\n",
        "test_data = test_data.reshape((test_data.shape[0], 28, 28, 1)).astype('float32') / 255\n",
        "\n",
        "# Paso 4: Definir modelo CNN\n",
        "model = Sequential([\n",
        "    Conv2D(32, (3, 3), activation='relu', input_shape=(28, 28, 1)),\n",
        "    MaxPooling2D((2, 2)),\n",
        "    Conv2D(64, (3, 3), activation='relu'),\n",
        "    MaxPooling2D((2, 2)),\n",
        "    Conv2D(64, (3, 3), activation='relu'),\n",
        "    Flatten(),\n",
        "    Dense(64, activation='relu'),\n",
        "    Dense(10, activation='softmax')\n",
        "])\n",
        "\n",
        "# Paso 5: Compilar modelo\n",
        "model.compile(optimizer='adam',\n",
        "              loss='sparse_categorical_crossentropy',\n",
        "              metrics=['accuracy'])"
      ],
      "metadata": {
        "id": "02JDaWVLV_Ui"
      },
      "execution_count": 2,
      "outputs": []
    },
    {
      "cell_type": "code",
      "source": [
        "# Paso 6: Entrenar modelo\n",
        "model.fit(train_data, train_labels, epochs=5, batch_size=64)\n",
        "\n",
        "# Paso 7: Evaluar modelo\n",
        "test_loss, test_accuracy = model.evaluate(test_data, test_labels)\n",
        "print(\"Exactitud de predicción en conjunto de prueba:\", test_accuracy)\n",
        "\n",
        "\n"
      ],
      "metadata": {
        "colab": {
          "base_uri": "https://localhost:8080/"
        },
        "id": "80FYXJPBWFOF",
        "outputId": "c2ddc29d-c859-481d-fc2e-360a22c8ee60"
      },
      "execution_count": 3,
      "outputs": [
        {
          "output_type": "stream",
          "name": "stdout",
          "text": [
            "Epoch 1/5\n",
            "938/938 [==============================] - 52s 54ms/step - loss: 0.1856 - accuracy: 0.9431\n",
            "Epoch 2/5\n",
            "938/938 [==============================] - 54s 58ms/step - loss: 0.0539 - accuracy: 0.9834\n",
            "Epoch 3/5\n",
            "938/938 [==============================] - 49s 53ms/step - loss: 0.0382 - accuracy: 0.9885\n",
            "Epoch 4/5\n",
            "938/938 [==============================] - 52s 56ms/step - loss: 0.0297 - accuracy: 0.9902\n",
            "Epoch 5/5\n",
            "938/938 [==============================] - 49s 53ms/step - loss: 0.0233 - accuracy: 0.9929\n",
            "313/313 [==============================] - 4s 13ms/step - loss: 0.0367 - accuracy: 0.9879\n",
            "Exactitud de predicción en conjunto de prueba: 0.9879000186920166\n"
          ]
        }
      ]
    },
    {
      "cell_type": "code",
      "source": [
        "# Paso 8: Realizar predicciones y mostrar imágenes\n",
        "for i in range(5):\n",
        "    # Selecciona una imagen aleatoria de los datos de prueba\n",
        "    index = np.random.randint(0, len(test_data))\n",
        "    image = test_data[index].reshape(28, 28)  # Remodelar la imagen para mostrarla correctamente\n",
        "    label = test_labels[index]\n",
        "\n",
        "    # Realiza la predicción\n",
        "    prediction = model.predict(np.array([test_data[index]]))\n",
        "    predicted_label = np.argmax(prediction)\n",
        "\n",
        "    # Muestra la imagen\n",
        "    plt.imshow(image, cmap='gray')\n",
        "    plt.axis('off')\n",
        "    plt.show()\n",
        "\n",
        "    print(\"Predicción:\", predicted_label)\n",
        "    print(\"Valor real:\", label)"
      ],
      "metadata": {
        "colab": {
          "base_uri": "https://localhost:8080/",
          "height": 1000
        },
        "id": "6GLY9NX2XNNF",
        "outputId": "bcf6d642-a33b-47ac-a4be-1d3b3e87ac47"
      },
      "execution_count": 4,
      "outputs": [
        {
          "output_type": "stream",
          "name": "stdout",
          "text": [
            "1/1 [==============================] - 0s 111ms/step\n"
          ]
        },
        {
          "output_type": "display_data",
          "data": {
            "text/plain": [
              "<Figure size 640x480 with 1 Axes>"
            ],
            "image/png": "[encoded data removed]"
          },
          "metadata": {}
        },
        {
          "output_type": "stream",
          "name": "stdout",
          "text": [
            "Predicción: 2\n",
            "Valor real: 2\n",
            "1/1 [==============================] - 0s 23ms/step\n"
          ]
        },
        {
          "output_type": "display_data",
          "data": {
            "text/plain": [
              "<Figure size 640x480 with 1 Axes>"
            ],
            "image/png": "[encoded data removed]"
          },
          "metadata": {}
        },
        {
          "output_type": "stream",
          "name": "stdout",
          "text": [
            "Predicción: 3\n",
            "Valor real: 3\n",
            "1/1 [==============================] - 0s 27ms/step\n"
          ]
        },
        {
          "output_type": "display_data",
          "data": {
            "text/plain": [
              "<Figure size 640x480 with 1 Axes>"
            ],
            "image/png": "[encoded data removed]"
          },
          "metadata": {}
        },
        {
          "output_type": "stream",
          "name": "stdout",
          "text": [
            "Predicción: 1\n",
            "Valor real: 1\n",
            "1/1 [==============================] - 0s 28ms/step\n"
          ]
        },
        {
          "output_type": "display_data",
          "data": {
            "text/plain": [
              "<Figure size 640x480 with 1 Axes>"
            ],
            "image/png": "[encoded data removed]"
          },
          "metadata": {}
        },
        {
          "output_type": "stream",
          "name": "stdout",
          "text": [
            "Predicción: 2\n",
            "Valor real: 2\n",
            "1/1 [==============================] - 0s 32ms/step\n"
          ]
        },
        {
          "output_type": "display_data",
          "data": {
            "text/plain": [
              "<Figure size 640x480 with 1 Axes>"
            ],
            "image/png": "[encoded data removed]"
          },
          "metadata": {}
        },
        {
          "output_type": "stream",
          "name": "stdout",
          "text": [
            "Predicción: 3\n",
            "Valor real: 9\n"
          ]
        }
      ]
    },
    {
      "cell_type": "markdown",
      "source": [
        "¿Cuántas épocas usaste para mejorar el rendimiento del modelo en comparación con la red neuronal prealimentada de la actividad 5? R= En este ejemplo, se utilizaron 5 épocas para entrenar el modelo.\n",
        "\n",
        "¿Obtuviste un mejor rendimiento con este modelo o con el de la actividad 5? ¿Por qué?\n",
        "\n",
        "R= El rendimiento entre el modelo de la Actividad 5 y el de la Actividad 6 puede variar según varios factores, como la complejidad del problema, la cantidad y variedad de datos, y la configuración específica del modelo. Dado que la CNN de la Actividad 6 tiene la capacidad de capturar características espaciales en las imágenes, es posible que obtenga un rendimiento ligeramente mejor en problemas de clasificación de imágenes como MNIST. Sin embargo, la determinación precisa del rendimiento requeriría comparar directamente la exactitud de predicción en el conjunto de prueba para ambos modelos.\n",
        "\n"
      ],
      "metadata": {
        "id": "BWtHUyAkXQm9"
      }
    }
  ]
}